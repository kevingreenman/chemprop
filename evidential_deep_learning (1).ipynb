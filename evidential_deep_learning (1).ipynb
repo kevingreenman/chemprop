{
  "nbformat": 4,
  "nbformat_minor": 0,
  "metadata": {
    "colab": {
      "provenance": []
    },
    "kernelspec": {
      "name": "python3",
      "display_name": "Python 3"
    },
    "language_info": {
      "name": "python"
    },
    "widgets": {
      "application/vnd.jupyter.widget-state+json": {
        "308a77da2b6d47f7ae99d378db0d0854": {
          "model_module": "@jupyter-widgets/controls",
          "model_name": "HBoxModel",
          "model_module_version": "1.5.0",
          "state": {
            "_dom_classes": [],
            "_model_module": "@jupyter-widgets/controls",
            "_model_module_version": "1.5.0",
            "_model_name": "HBoxModel",
            "_view_count": null,
            "_view_module": "@jupyter-widgets/controls",
            "_view_module_version": "1.5.0",
            "_view_name": "HBoxView",
            "box_style": "",
            "children": [
              "IPY_MODEL_09561b98a84a46b183ddaa5de3606afe",
              "IPY_MODEL_4d0725dba5d949d59aa14fd7c4104ece",
              "IPY_MODEL_10824978e43745f6af0b7aeacbc720b6"
            ],
            "layout": "IPY_MODEL_f96234d4a0b447ff98d4ba0282af69dc"
          }
        },
        "09561b98a84a46b183ddaa5de3606afe": {
          "model_module": "@jupyter-widgets/controls",
          "model_name": "HTMLModel",
          "model_module_version": "1.5.0",
          "state": {
            "_dom_classes": [],
            "_model_module": "@jupyter-widgets/controls",
            "_model_module_version": "1.5.0",
            "_model_name": "HTMLModel",
            "_view_count": null,
            "_view_module": "@jupyter-widgets/controls",
            "_view_module_version": "1.5.0",
            "_view_name": "HTMLView",
            "description": "",
            "description_tooltip": null,
            "layout": "IPY_MODEL_3d9566e3bfad480facba36c35ea2a31d",
            "placeholder": "​",
            "style": "IPY_MODEL_379075f0e3bd4b10bc4375781c950526",
            "value": "Epoch 499: 100%"
          }
        },
        "4d0725dba5d949d59aa14fd7c4104ece": {
          "model_module": "@jupyter-widgets/controls",
          "model_name": "FloatProgressModel",
          "model_module_version": "1.5.0",
          "state": {
            "_dom_classes": [],
            "_model_module": "@jupyter-widgets/controls",
            "_model_module_version": "1.5.0",
            "_model_name": "FloatProgressModel",
            "_view_count": null,
            "_view_module": "@jupyter-widgets/controls",
            "_view_module_version": "1.5.0",
            "_view_name": "ProgressView",
            "bar_style": "success",
            "description": "",
            "description_tooltip": null,
            "layout": "IPY_MODEL_0ffc01da73c14e72b3154ed89a60d7c5",
            "max": 5,
            "min": 0,
            "orientation": "horizontal",
            "style": "IPY_MODEL_4093b40aa7624139b4f4791d8a46dddf",
            "value": 5
          }
        },
        "10824978e43745f6af0b7aeacbc720b6": {
          "model_module": "@jupyter-widgets/controls",
          "model_name": "HTMLModel",
          "model_module_version": "1.5.0",
          "state": {
            "_dom_classes": [],
            "_model_module": "@jupyter-widgets/controls",
            "_model_module_version": "1.5.0",
            "_model_name": "HTMLModel",
            "_view_count": null,
            "_view_module": "@jupyter-widgets/controls",
            "_view_module_version": "1.5.0",
            "_view_name": "HTMLView",
            "description": "",
            "description_tooltip": null,
            "layout": "IPY_MODEL_c8417326ebd14c91838c93174e804d5d",
            "placeholder": "​",
            "style": "IPY_MODEL_acb60b2cfbf14beebf913f1cff544e65",
            "value": " 5/5 [00:00&lt;00:00, 66.51it/s, v_num=47]"
          }
        },
        "f96234d4a0b447ff98d4ba0282af69dc": {
          "model_module": "@jupyter-widgets/base",
          "model_name": "LayoutModel",
          "model_module_version": "1.2.0",
          "state": {
            "_model_module": "@jupyter-widgets/base",
            "_model_module_version": "1.2.0",
            "_model_name": "LayoutModel",
            "_view_count": null,
            "_view_module": "@jupyter-widgets/base",
            "_view_module_version": "1.2.0",
            "_view_name": "LayoutView",
            "align_content": null,
            "align_items": null,
            "align_self": null,
            "border": null,
            "bottom": null,
            "display": "inline-flex",
            "flex": null,
            "flex_flow": "row wrap",
            "grid_area": null,
            "grid_auto_columns": null,
            "grid_auto_flow": null,
            "grid_auto_rows": null,
            "grid_column": null,
            "grid_gap": null,
            "grid_row": null,
            "grid_template_areas": null,
            "grid_template_columns": null,
            "grid_template_rows": null,
            "height": null,
            "justify_content": null,
            "justify_items": null,
            "left": null,
            "margin": null,
            "max_height": null,
            "max_width": null,
            "min_height": null,
            "min_width": null,
            "object_fit": null,
            "object_position": null,
            "order": null,
            "overflow": null,
            "overflow_x": null,
            "overflow_y": null,
            "padding": null,
            "right": null,
            "top": null,
            "visibility": null,
            "width": "100%"
          }
        },
        "3d9566e3bfad480facba36c35ea2a31d": {
          "model_module": "@jupyter-widgets/base",
          "model_name": "LayoutModel",
          "model_module_version": "1.2.0",
          "state": {
            "_model_module": "@jupyter-widgets/base",
            "_model_module_version": "1.2.0",
            "_model_name": "LayoutModel",
            "_view_count": null,
            "_view_module": "@jupyter-widgets/base",
            "_view_module_version": "1.2.0",
            "_view_name": "LayoutView",
            "align_content": null,
            "align_items": null,
            "align_self": null,
            "border": null,
            "bottom": null,
            "display": null,
            "flex": null,
            "flex_flow": null,
            "grid_area": null,
            "grid_auto_columns": null,
            "grid_auto_flow": null,
            "grid_auto_rows": null,
            "grid_column": null,
            "grid_gap": null,
            "grid_row": null,
            "grid_template_areas": null,
            "grid_template_columns": null,
            "grid_template_rows": null,
            "height": null,
            "justify_content": null,
            "justify_items": null,
            "left": null,
            "margin": null,
            "max_height": null,
            "max_width": null,
            "min_height": null,
            "min_width": null,
            "object_fit": null,
            "object_position": null,
            "order": null,
            "overflow": null,
            "overflow_x": null,
            "overflow_y": null,
            "padding": null,
            "right": null,
            "top": null,
            "visibility": null,
            "width": null
          }
        },
        "379075f0e3bd4b10bc4375781c950526": {
          "model_module": "@jupyter-widgets/controls",
          "model_name": "DescriptionStyleModel",
          "model_module_version": "1.5.0",
          "state": {
            "_model_module": "@jupyter-widgets/controls",
            "_model_module_version": "1.5.0",
            "_model_name": "DescriptionStyleModel",
            "_view_count": null,
            "_view_module": "@jupyter-widgets/base",
            "_view_module_version": "1.2.0",
            "_view_name": "StyleView",
            "description_width": ""
          }
        },
        "0ffc01da73c14e72b3154ed89a60d7c5": {
          "model_module": "@jupyter-widgets/base",
          "model_name": "LayoutModel",
          "model_module_version": "1.2.0",
          "state": {
            "_model_module": "@jupyter-widgets/base",
            "_model_module_version": "1.2.0",
            "_model_name": "LayoutModel",
            "_view_count": null,
            "_view_module": "@jupyter-widgets/base",
            "_view_module_version": "1.2.0",
            "_view_name": "LayoutView",
            "align_content": null,
            "align_items": null,
            "align_self": null,
            "border": null,
            "bottom": null,
            "display": null,
            "flex": "2",
            "flex_flow": null,
            "grid_area": null,
            "grid_auto_columns": null,
            "grid_auto_flow": null,
            "grid_auto_rows": null,
            "grid_column": null,
            "grid_gap": null,
            "grid_row": null,
            "grid_template_areas": null,
            "grid_template_columns": null,
            "grid_template_rows": null,
            "height": null,
            "justify_content": null,
            "justify_items": null,
            "left": null,
            "margin": null,
            "max_height": null,
            "max_width": null,
            "min_height": null,
            "min_width": null,
            "object_fit": null,
            "object_position": null,
            "order": null,
            "overflow": null,
            "overflow_x": null,
            "overflow_y": null,
            "padding": null,
            "right": null,
            "top": null,
            "visibility": null,
            "width": null
          }
        },
        "4093b40aa7624139b4f4791d8a46dddf": {
          "model_module": "@jupyter-widgets/controls",
          "model_name": "ProgressStyleModel",
          "model_module_version": "1.5.0",
          "state": {
            "_model_module": "@jupyter-widgets/controls",
            "_model_module_version": "1.5.0",
            "_model_name": "ProgressStyleModel",
            "_view_count": null,
            "_view_module": "@jupyter-widgets/base",
            "_view_module_version": "1.2.0",
            "_view_name": "StyleView",
            "bar_color": null,
            "description_width": ""
          }
        },
        "c8417326ebd14c91838c93174e804d5d": {
          "model_module": "@jupyter-widgets/base",
          "model_name": "LayoutModel",
          "model_module_version": "1.2.0",
          "state": {
            "_model_module": "@jupyter-widgets/base",
            "_model_module_version": "1.2.0",
            "_model_name": "LayoutModel",
            "_view_count": null,
            "_view_module": "@jupyter-widgets/base",
            "_view_module_version": "1.2.0",
            "_view_name": "LayoutView",
            "align_content": null,
            "align_items": null,
            "align_self": null,
            "border": null,
            "bottom": null,
            "display": null,
            "flex": null,
            "flex_flow": null,
            "grid_area": null,
            "grid_auto_columns": null,
            "grid_auto_flow": null,
            "grid_auto_rows": null,
            "grid_column": null,
            "grid_gap": null,
            "grid_row": null,
            "grid_template_areas": null,
            "grid_template_columns": null,
            "grid_template_rows": null,
            "height": null,
            "justify_content": null,
            "justify_items": null,
            "left": null,
            "margin": null,
            "max_height": null,
            "max_width": null,
            "min_height": null,
            "min_width": null,
            "object_fit": null,
            "object_position": null,
            "order": null,
            "overflow": null,
            "overflow_x": null,
            "overflow_y": null,
            "padding": null,
            "right": null,
            "top": null,
            "visibility": null,
            "width": null
          }
        },
        "acb60b2cfbf14beebf913f1cff544e65": {
          "model_module": "@jupyter-widgets/controls",
          "model_name": "DescriptionStyleModel",
          "model_module_version": "1.5.0",
          "state": {
            "_model_module": "@jupyter-widgets/controls",
            "_model_module_version": "1.5.0",
            "_model_name": "DescriptionStyleModel",
            "_view_count": null,
            "_view_module": "@jupyter-widgets/base",
            "_view_module_version": "1.2.0",
            "_view_name": "StyleView",
            "description_width": ""
          }
        }
      }
    }
  },
  "cells": [
    {
      "cell_type": "code",
      "source": [
        "! pip install pytorch-lightning --upgrade"
      ],
      "metadata": {
        "id": "e6wx65UHomQO"
      },
      "execution_count": null,
      "outputs": []
    },
    {
      "cell_type": "code",
      "execution_count": 3,
      "metadata": {
        "id": "stTLDChOU2DD"
      },
      "outputs": [],
      "source": [
        "import torch\n",
        "from torch import nn, optim\n",
        "from torch.nn import functional as F\n",
        "from torch.utils.data import DataLoader, TensorDataset\n",
        "import pytorch_lightning as L\n",
        "import numpy as np"
      ]
    },
    {
      "cell_type": "code",
      "source": [
        "def generate_data(x_range=(-4, 4), num_points=1000):\n",
        "    x = np.linspace(x_range[0], x_range[1], num_points)\n",
        "    y = np.polyval([1,0,0,0], x)\n",
        "    y += np.random.normal(0,3, size=num_points)\n",
        "    return torch.tensor(x, dtype=torch.float32).view(-1,1), torch.tensor(y, dtype=torch.float32).view(-1,1)\n",
        "\n",
        "def negative_log_likelihood(pred_targets, pred_var, targets):\n",
        "  clamped_var = torch.clamp(pred_var, min=0.00001)\n",
        "  return torch.log(2*np.pi*clamped_var) / 2 + (pred_targets - targets)**2 / (2 * clamped_var)\n",
        "\n",
        "\n",
        "def evidential_loss(gamma, alpha, beta, v, targets, lam=0.01):\n",
        "\n",
        "  alpha = torch.clamp(alpha, min=1.00001)\n",
        "  beta = torch.clamp(beta, min=0.00001)\n",
        "  v = torch.clamp(v, min=0.00001)\n",
        "\n",
        "\n",
        "  twoBlambda = 2*beta*(1+v)\n",
        "  nll = 0.5*torch.log(np.pi/v) \\\n",
        "      - alpha*torch.log(twoBlambda) \\\n",
        "      + (alpha+0.5) * torch.log(v*(targets-gamma)**2 + twoBlambda) \\\n",
        "      + torch.lgamma(alpha) \\\n",
        "      - torch.lgamma(alpha+0.5)\n",
        "\n",
        "  error = torch.abs((targets - gamma))\n",
        "  reg = error * (2 * v + alpha)\n",
        "\n",
        "  return nll + lam*reg\n"
      ],
      "metadata": {
        "id": "JFlOH4Xd1at5"
      },
      "execution_count": 94,
      "outputs": []
    },
    {
      "cell_type": "code",
      "source": [
        "class sandbox(L.LightningModule):\n",
        "  def __init__(self):\n",
        "    super().__init__()\n",
        "\n",
        "    self.ffn = nn.Sequential(\n",
        "        nn.Linear(1,100),\n",
        "        nn.ReLU(),\n",
        "        nn.Linear(100,100),\n",
        "        nn.ReLU(),\n",
        "        nn.Linear(100,100),\n",
        "        nn.ReLU(),\n",
        "        nn.Linear(100,4)\n",
        "    )\n",
        "\n",
        "    self.lr = 0.0005\n",
        "\n",
        "  def forward(self, input):\n",
        "\n",
        "    output = self.ffn(input)\n",
        "\n",
        "    return output\n",
        "\n",
        "  def configure_optimizers(self):\n",
        "\n",
        "    return optim.Adam(self.parameters(), lr=self.lr)\n",
        "\n",
        "  def training_step(self, batch, batch_idx):\n",
        "\n",
        "    input_i, label_i = batch\n",
        "    label_i = torch.flatten(label_i)\n",
        "    output_i = self.ffn(input_i)\n",
        "\n",
        "    preds_i, alpha_i, beta_i, v_i = output_i[:,0], F.softplus(output_i[:,1])+1, F.softplus(output_i[:,2]), F.softplus(output_i[:,3])\n",
        "\n",
        "    loss = torch.mean(evidential_loss(preds_i, alpha_i, beta_i, v_i, label_i))\n",
        "\n",
        "    return loss\n",
        "\n"
      ],
      "metadata": {
        "id": "oW3UZKlqoHPv"
      },
      "execution_count": 136,
      "outputs": []
    },
    {
      "cell_type": "code",
      "source": [
        "x_train, y_train = generate_data()\n",
        "x_test, y_test = generate_data(x_range=(-6,6))\n",
        "\n",
        "train_data = TensorDataset(x_train, y_train)\n",
        "test_data = TensorDataset(x_test, y_test)\n",
        "\n",
        "train_loader = DataLoader(train_data, batch_size=100, shuffle=True)\n",
        "test_loader = DataLoader(test_data, batch_size=100, shuffle=True)\n",
        "\n",
        "model = sandbox()\n",
        "trainer = L.Trainer(max_epochs=500)\n",
        "\n",
        "trainer.fit(model, train_dataloaders=train_loader)\n"
      ],
      "metadata": {
        "id": "g6JNy-Nx5NVB",
        "colab": {
          "base_uri": "https://localhost:8080/",
          "height": 329,
          "referenced_widgets": [
            "308a77da2b6d47f7ae99d378db0d0854",
            "09561b98a84a46b183ddaa5de3606afe",
            "4d0725dba5d949d59aa14fd7c4104ece",
            "10824978e43745f6af0b7aeacbc720b6",
            "f96234d4a0b447ff98d4ba0282af69dc",
            "3d9566e3bfad480facba36c35ea2a31d",
            "379075f0e3bd4b10bc4375781c950526",
            "0ffc01da73c14e72b3154ed89a60d7c5",
            "4093b40aa7624139b4f4791d8a46dddf",
            "c8417326ebd14c91838c93174e804d5d",
            "acb60b2cfbf14beebf913f1cff544e65"
          ]
        },
        "outputId": "02e1ce5a-7291-46f4-9fd9-a8b84dc1302f"
      },
      "execution_count": 137,
      "outputs": [
        {
          "output_type": "stream",
          "name": "stderr",
          "text": [
            "INFO:pytorch_lightning.utilities.rank_zero:GPU available: False, used: False\n",
            "INFO:pytorch_lightning.utilities.rank_zero:TPU available: False, using: 0 TPU cores\n",
            "INFO:pytorch_lightning.utilities.rank_zero:IPU available: False, using: 0 IPUs\n",
            "INFO:pytorch_lightning.utilities.rank_zero:HPU available: False, using: 0 HPUs\n",
            "INFO:pytorch_lightning.callbacks.model_summary:\n",
            "  | Name | Type       | Params\n",
            "------------------------------------\n",
            "0 | ffn  | Sequential | 20.8 K\n",
            "------------------------------------\n",
            "20.8 K    Trainable params\n",
            "0         Non-trainable params\n",
            "20.8 K    Total params\n",
            "0.083     Total estimated model params size (MB)\n",
            "/usr/local/lib/python3.10/dist-packages/pytorch_lightning/loops/fit_loop.py:293: The number of training batches (5) is smaller than the logging interval Trainer(log_every_n_steps=50). Set a lower value for log_every_n_steps if you want to see logs for the training epoch.\n"
          ]
        },
        {
          "output_type": "display_data",
          "data": {
            "text/plain": [
              "Training: |          | 0/? [00:00<?, ?it/s]"
            ],
            "application/vnd.jupyter.widget-view+json": {
              "version_major": 2,
              "version_minor": 0,
              "model_id": "308a77da2b6d47f7ae99d378db0d0854"
            }
          },
          "metadata": {}
        },
        {
          "output_type": "stream",
          "name": "stderr",
          "text": [
            "INFO:pytorch_lightning.utilities.rank_zero:`Trainer.fit` stopped: `max_epochs=500` reached.\n"
          ]
        }
      ]
    },
    {
      "cell_type": "code",
      "source": [
        "import seaborn as sns\n",
        "import matplotlib.pyplot as plt\n",
        "\n",
        "\n",
        "train_x, train_y = generate_data(x_range=(-6,6))\n",
        "temp = model(train_x)\n",
        "\n",
        "preds = temp[:,0].detach()\n",
        "alpha = F.softplus(temp[:,1].detach()) + 1\n",
        "beta = F.softplus(temp[:,2].detach())\n",
        "v = F.softplus(temp[:,3].detach())\n",
        "\n",
        "al_u = beta/(alpha-1)\n",
        "ep_u = al_u/v\n",
        "\n",
        "\n",
        "x = torch.flatten(train_x)\n",
        "\n",
        "plt.title(\"al_u\")\n",
        "plt.scatter(x, preds, s=1)\n",
        "plt.scatter(x, train_y,s=1, color=\"orange\")\n",
        "plt.fill_between(x, preds-al_u, preds+al_u, color=\"gray\", alpha=0.2)\n",
        "plt.ylim(-100,100)\n",
        "plt.show()\n",
        "\n",
        "plt.title(\"ep_u\")\n",
        "plt.scatter(x, preds, s=1)\n",
        "plt.scatter(x, train_y,s=1, color=\"orange\")\n",
        "plt.fill_between(x, preds-ep_u, preds+ep_u, color=\"gray\", alpha=0.2)\n",
        "plt.ylim(-100,100)\n",
        "plt.show()\n",
        "\n"
      ],
      "metadata": {
        "colab": {
          "base_uri": "https://localhost:8080/",
          "height": 887
        },
        "id": "ZpugAQyeGrjI",
        "outputId": "568adc83-c5cc-49e1-aec0-ac7667d3bb07"
      },
      "execution_count": 140,
      "outputs": [
        {
          "output_type": "display_data",
          "data": {
            "text/plain": [
              "<Figure size 640x480 with 1 Axes>"
            ],
            "image/png": "[encoded data removed]"
          },
          "metadata": {}
        },
        {
          "output_type": "display_data",
          "data": {
            "text/plain": [
              "<Figure size 640x480 with 1 Axes>"
            ],
            "image/png": "[encoded data removed]"
          },
          "metadata": {}
        }
      ]
    },
    {
      "cell_type": "code",
      "source": [
        "print(al_u)"
      ],
      "metadata": {
        "colab": {
          "base_uri": "https://localhost:8080/"
        },
        "id": "LH2JiglEg4Xj",
        "outputId": "ae073c92-303a-43b5-e8b6-1562ba740e64"
      },
      "execution_count": 139,
      "outputs": [
        {
          "output_type": "stream",
          "name": "stdout",
          "text": [
            "tensor([2.9769e-06, 3.1790e-06, 3.3948e-06, 3.6254e-06, 3.8717e-06, 4.1348e-06,\n",
            "        4.4158e-06, 4.7158e-06, 5.0362e-06, 5.3784e-06, 5.7439e-06, 6.1342e-06,\n",
            "        6.5511e-06, 6.9962e-06, 7.4717e-06, 7.9794e-06, 8.5217e-06, 9.1008e-06,\n",
            "        9.7193e-06, 1.0380e-05, 1.1085e-05, 1.1839e-05, 1.2643e-05, 1.3503e-05,\n",
            "        1.4420e-05, 1.5400e-05, 1.6447e-05, 1.7564e-05, 1.8755e-05, 2.0027e-05,\n",
            "        2.1385e-05, 2.2835e-05, 2.4384e-05, 2.6038e-05, 2.7804e-05, 2.9690e-05,\n",
            "        3.1703e-05, 3.3854e-05, 3.6150e-05, 3.8602e-05, 4.1220e-05, 4.4016e-05,\n",
            "        4.7001e-05, 5.0189e-05, 5.3596e-05, 5.7236e-05, 6.1124e-05, 6.5269e-05,\n",
            "        6.9680e-05, 7.4391e-05, 7.9419e-05, 8.4788e-05, 9.0520e-05, 9.6639e-05,\n",
            "        1.0317e-04, 1.1015e-04, 1.1760e-04, 1.2569e-04, 1.3433e-04, 1.4357e-04,\n",
            "        1.5344e-04, 1.6399e-04, 1.7523e-04, 1.8717e-04, 1.9992e-04, 2.1348e-04,\n",
            "        2.2779e-04, 2.4304e-04, 2.5931e-04, 2.7667e-04, 2.9492e-04, 3.1463e-04,\n",
            "        3.3569e-04, 3.5791e-04, 3.8158e-04, 4.0679e-04, 4.3314e-04, 4.6109e-04,\n",
            "        4.9084e-04, 5.2252e-04, 5.5651e-04, 5.9210e-04, 6.2979e-04, 6.6988e-04,\n",
            "        7.1251e-04, 7.6575e-04, 8.3477e-04, 8.9907e-04, 9.6835e-04, 1.0430e-03,\n",
            "        1.1234e-03, 1.2101e-03, 1.3034e-03, 1.4041e-03, 1.5125e-03, 1.6293e-03,\n",
            "        1.7552e-03, 1.8908e-03, 2.0370e-03, 2.1945e-03, 2.3643e-03, 2.5472e-03,\n",
            "        2.7444e-03, 2.9569e-03, 3.1859e-03, 3.4327e-03, 3.6987e-03, 3.9853e-03,\n",
            "        4.2943e-03, 4.6249e-03, 4.9783e-03, 5.3616e-03, 5.7613e-03, 6.1016e-03,\n",
            "        6.4621e-03, 6.8440e-03, 7.2485e-03, 7.6770e-03, 8.1309e-03, 8.6117e-03,\n",
            "        9.1211e-03, 9.6606e-03, 1.0232e-02, 1.0838e-02, 1.1479e-02, 1.2159e-02,\n",
            "        1.2878e-02, 1.3641e-02, 1.4448e-02, 1.5304e-02, 1.6210e-02, 1.7170e-02,\n",
            "        1.8187e-02, 1.9264e-02, 2.0405e-02, 2.1613e-02, 2.2893e-02, 2.4248e-02,\n",
            "        2.5684e-02, 2.7204e-02, 2.8718e-02, 3.0294e-02, 3.1644e-02, 3.2869e-02,\n",
            "        3.4258e-02, 3.5778e-02, 3.7365e-02, 3.9022e-02, 4.0751e-02, 4.2556e-02,\n",
            "        4.4440e-02, 4.6406e-02, 4.8334e-02, 5.0311e-02, 5.2368e-02, 5.4507e-02,\n",
            "        5.6732e-02, 5.9047e-02, 6.1454e-02, 6.3909e-02, 6.6335e-02, 6.8852e-02,\n",
            "        7.1461e-02, 7.4168e-02, 7.6785e-02, 7.9433e-02, 8.2171e-02, 8.5000e-02,\n",
            "        8.7925e-02, 9.0947e-02, 9.4070e-02, 9.7297e-02, 1.0063e-01, 1.0408e-01,\n",
            "        1.0764e-01, 1.1117e-01, 1.1467e-01, 1.1827e-01, 1.2198e-01, 1.2580e-01,\n",
            "        1.2973e-01, 1.3379e-01, 1.3795e-01, 1.4214e-01, 1.4645e-01, 1.5089e-01,\n",
            "        1.5545e-01, 1.6194e-01, 1.6868e-01, 1.7570e-01, 1.8299e-01, 1.9056e-01,\n",
            "        1.9844e-01, 2.0662e-01, 2.1511e-01, 2.2393e-01, 2.3310e-01, 2.4261e-01,\n",
            "        2.5249e-01, 2.6274e-01, 2.7338e-01, 2.8441e-01, 2.9585e-01, 3.0772e-01,\n",
            "        3.2002e-01, 3.3277e-01, 3.4599e-01, 3.5911e-01, 3.7177e-01, 3.8040e-01,\n",
            "        3.8695e-01, 3.9323e-01, 3.9896e-01, 4.0458e-01, 4.1027e-01, 4.1443e-01,\n",
            "        4.1827e-01, 4.2214e-01, 4.2604e-01, 4.2996e-01, 4.3392e-01, 4.3791e-01,\n",
            "        4.4192e-01, 4.4597e-01, 4.4909e-01, 4.5131e-01, 4.5330e-01, 4.5530e-01,\n",
            "        4.5730e-01, 4.5931e-01, 4.6132e-01, 4.6334e-01, 4.6537e-01, 4.6736e-01,\n",
            "        4.6917e-01, 4.7078e-01, 4.7239e-01, 4.7401e-01, 4.7557e-01, 4.7667e-01,\n",
            "        4.7776e-01, 4.7885e-01, 4.7994e-01, 4.8103e-01, 4.8213e-01, 4.8325e-01,\n",
            "        4.8423e-01, 4.8487e-01, 4.8541e-01, 4.8577e-01, 4.8587e-01, 4.8608e-01,\n",
            "        4.8582e-01, 4.8536e-01, 4.8431e-01, 4.8260e-01, 4.8139e-01, 4.8052e-01,\n",
            "        4.7943e-01, 4.7829e-01, 4.7717e-01, 4.7597e-01, 4.7462e-01, 4.7328e-01,\n",
            "        4.7194e-01, 4.7061e-01, 4.6892e-01, 4.6700e-01, 4.6471e-01, 4.6218e-01,\n",
            "        4.5965e-01, 4.5714e-01, 4.5465e-01, 4.5174e-01, 4.4846e-01, 4.4519e-01,\n",
            "        4.4180e-01, 4.3840e-01, 4.3496e-01, 4.3107e-01, 4.2662e-01, 4.2142e-01,\n",
            "        4.1543e-01, 4.0929e-01, 4.0251e-01, 3.9230e-01, 3.8149e-01, 3.7075e-01,\n",
            "        3.6010e-01, 3.4928e-01, 3.3876e-01, 3.2853e-01, 3.1856e-01, 3.0886e-01,\n",
            "        2.9943e-01, 2.9027e-01, 2.8137e-01, 2.7273e-01, 2.6451e-01, 2.5669e-01,\n",
            "        2.4908e-01, 2.4168e-01, 2.3449e-01, 2.2750e-01, 2.2071e-01, 2.1411e-01,\n",
            "        2.0769e-01, 2.0145e-01, 1.9539e-01, 1.8951e-01, 1.8379e-01, 1.7823e-01,\n",
            "        1.7268e-01, 1.6676e-01, 1.6078e-01, 1.5501e-01, 1.4943e-01, 1.4405e-01,\n",
            "        1.3885e-01, 1.3384e-01, 1.2900e-01, 1.2432e-01, 1.1969e-01, 1.1518e-01,\n",
            "        1.1084e-01, 1.0665e-01, 1.0262e-01, 9.8739e-02, 9.5000e-02, 9.1345e-02,\n",
            "        8.7768e-02, 8.4328e-02, 8.0959e-02, 7.7712e-02, 7.4545e-02, 7.1274e-02,\n",
            "        6.8144e-02, 6.5150e-02, 6.2285e-02, 5.9544e-02, 5.6923e-02, 5.4415e-02,\n",
            "        5.2017e-02, 4.9723e-02, 4.7529e-02, 4.5432e-02, 4.3426e-02, 4.1508e-02,\n",
            "        3.9674e-02, 3.7920e-02, 3.6217e-02, 3.4481e-02, 3.2827e-02, 3.1251e-02,\n",
            "        2.9751e-02, 2.8335e-02, 2.7131e-02, 2.6016e-02, 2.4967e-02, 2.4206e-02,\n",
            "        2.3481e-02, 2.2777e-02, 2.2093e-02, 2.1430e-02, 2.0787e-02, 2.0162e-02,\n",
            "        1.9557e-02, 1.8969e-02, 1.8399e-02, 1.7845e-02, 1.7309e-02, 1.6788e-02,\n",
            "        1.6282e-02, 1.5792e-02, 1.5317e-02, 1.4855e-02, 1.4408e-02, 1.3973e-02,\n",
            "        1.3552e-02, 1.3143e-02, 1.2747e-02, 1.2362e-02, 1.1989e-02, 1.1628e-02,\n",
            "        1.1277e-02, 1.0936e-02, 1.0606e-02, 1.0286e-02, 9.9748e-03, 9.6735e-03,\n",
            "        9.3811e-03, 9.0976e-03, 8.8470e-03, 8.6199e-03, 8.3986e-03, 8.1830e-03,\n",
            "        7.9729e-03, 7.7683e-03, 7.5689e-03, 7.3746e-03, 7.1854e-03, 7.0009e-03,\n",
            "        6.8213e-03, 6.6462e-03, 6.4757e-03, 6.3095e-03, 6.1477e-03, 5.9899e-03,\n",
            "        5.8363e-03, 5.6865e-03, 5.5407e-03, 5.3986e-03, 5.2601e-03, 5.1252e-03,\n",
            "        4.9938e-03, 4.8657e-03, 4.7410e-03, 4.6221e-03, 4.4420e-03, 4.2072e-03,\n",
            "        3.9938e-03, 3.7966e-03, 3.6148e-03, 3.4424e-03, 3.2823e-03, 3.1313e-03,\n",
            "        2.9893e-03, 2.8540e-03, 2.7255e-03, 2.6038e-03, 2.4875e-03, 2.3767e-03,\n",
            "        2.2712e-03, 2.1704e-03, 2.0741e-03, 1.9829e-03, 1.8959e-03, 1.8128e-03,\n",
            "        1.7336e-03, 1.6582e-03, 1.5863e-03, 1.5180e-03, 1.4526e-03, 1.3900e-03,\n",
            "        1.3302e-03, 1.2730e-03, 1.2182e-03, 1.1658e-03, 1.1157e-03, 1.0677e-03,\n",
            "        1.0218e-03, 9.7783e-04, 9.3577e-04, 8.9553e-04, 8.5707e-04, 8.2032e-04,\n",
            "        7.8516e-04, 7.5149e-04, 7.1927e-04, 6.8844e-04, 6.5892e-04, 6.3067e-04,\n",
            "        6.0364e-04, 5.7776e-04, 5.5299e-04, 5.2928e-04, 5.0659e-04, 4.8487e-04,\n",
            "        4.6409e-04, 4.4420e-04, 4.2515e-04, 4.0693e-04, 3.8949e-04, 3.7279e-04,\n",
            "        3.5681e-04, 3.4152e-04, 3.2687e-04, 3.1286e-04, 2.9944e-04, 2.8660e-04,\n",
            "        2.7431e-04, 2.6255e-04, 2.5129e-04, 2.4051e-04, 2.3020e-04, 2.2033e-04,\n",
            "        2.1088e-04, 2.0184e-04, 1.9319e-04, 1.8490e-04, 1.7698e-04, 1.6939e-04,\n",
            "        1.6213e-04, 1.5518e-04, 1.4852e-04, 1.4216e-04, 1.3606e-04, 1.3023e-04,\n",
            "        1.2465e-04, 1.1931e-04])\n"
          ]
        }
      ]
    }
  ]
}